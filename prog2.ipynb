{
 "cells": [
  {
   "cell_type": "code",
   "execution_count": 1,
   "metadata": {},
   "outputs": [],
   "source": [
    "import pandas as pd\n",
    "import numpy as np\n",
    "\n",
    "import matplotlib.pyplot as plt\n",
    "import seaborn as sns"
   ]
  },
  {
   "cell_type": "code",
   "execution_count": 2,
   "metadata": {},
   "outputs": [],
   "source": [
    "df=pd.read_csv('Narcotics_Dataset.csv')"
   ]
  },
  {
   "cell_type": "code",
   "execution_count": 3,
   "metadata": {},
   "outputs": [
    {
     "data": {
      "text/html": [
       "<div>\n",
       "<style scoped>\n",
       "    .dataframe tbody tr th:only-of-type {\n",
       "        vertical-align: middle;\n",
       "    }\n",
       "\n",
       "    .dataframe tbody tr th {\n",
       "        vertical-align: top;\n",
       "    }\n",
       "\n",
       "    .dataframe thead th {\n",
       "        text-align: right;\n",
       "    }\n",
       "</style>\n",
       "<table border=\"1\" class=\"dataframe\">\n",
       "  <thead>\n",
       "    <tr style=\"text-align: right;\">\n",
       "      <th></th>\n",
       "      <th>SL\\nNo.</th>\n",
       "      <th>DATE OF\\nSEIZURE</th>\n",
       "      <th>SEIZING\\nAGENCY</th>\n",
       "      <th>QUANTITY AND\\nDRUG SEIZED\\n(IN KGS.)</th>\n",
       "      <th>PLACE\\nOF\\nORIGIN</th>\n",
       "      <th>INTENDED\\nDESTINAT\\nION</th>\n",
       "      <th>NAME OF\\nPERSONS ARRESTED</th>\n",
       "      <th>NATION-\\nALITY</th>\n",
       "      <th>AGE</th>\n",
       "      <th>SEX</th>\n",
       "    </tr>\n",
       "  </thead>\n",
       "  <tbody>\n",
       "    <tr>\n",
       "      <th>0</th>\n",
       "      <td>1</td>\n",
       "      <td>01.02.2019</td>\n",
       "      <td>RPF/NCB\\nGuwahati</td>\n",
       "      <td>24.500 kg\\nGanja</td>\n",
       "      <td>-</td>\n",
       "      <td>-</td>\n",
       "      <td>1.Sanjoy Das\\n2.Juyel Das</td>\n",
       "      <td>Indian\\nIndian</td>\n",
       "      <td>32\\n42</td>\n",
       "      <td>M\\nM</td>\n",
       "    </tr>\n",
       "    <tr>\n",
       "      <th>1</th>\n",
       "      <td>2</td>\n",
       "      <td>02.02.2019</td>\n",
       "      <td>NCB Imphal along with NAB,State Police &amp; Distr...</td>\n",
       "      <td>Destroyed illicit cultivation of Opuim spread ...</td>\n",
       "      <td>-</td>\n",
       "      <td>-</td>\n",
       "      <td>-</td>\n",
       "      <td>-</td>\n",
       "      <td>-</td>\n",
       "      <td>-</td>\n",
       "    </tr>\n",
       "    <tr>\n",
       "      <th>2</th>\n",
       "      <td>3</td>\n",
       "      <td>02.02.2019</td>\n",
       "      <td>BAF/NCB\\nAmritsar</td>\n",
       "      <td>3.990 kg\\nHeroin &amp; 80\\ngram Opium</td>\n",
       "      <td>SWA</td>\n",
       "      <td>-</td>\n",
       "      <td>-</td>\n",
       "      <td>-</td>\n",
       "      <td>-</td>\n",
       "      <td>-</td>\n",
       "    </tr>\n",
       "    <tr>\n",
       "      <th>3</th>\n",
       "      <td>4</td>\n",
       "      <td>02.02.2019</td>\n",
       "      <td>Customs,\\nSIIB, New\\nDelhi</td>\n",
       "      <td>581.455 kg of\\nDry Chatt/Khat</td>\n",
       "      <td>Ethiopia</td>\n",
       "      <td>-</td>\n",
       "      <td>1.Ahmed Hassan</td>\n",
       "      <td>Somalian</td>\n",
       "      <td>30</td>\n",
       "      <td>M</td>\n",
       "    </tr>\n",
       "    <tr>\n",
       "      <th>4</th>\n",
       "      <td>5</td>\n",
       "      <td>04.02.2019</td>\n",
       "      <td>NCB Imphal along with NAB, Manipur Rifles,Stat...</td>\n",
       "      <td>Destroyed illicit cultivation of Opuim spread ...</td>\n",
       "      <td>-</td>\n",
       "      <td>-</td>\n",
       "      <td>-</td>\n",
       "      <td>-</td>\n",
       "      <td>-</td>\n",
       "      <td>-</td>\n",
       "    </tr>\n",
       "  </tbody>\n",
       "</table>\n",
       "</div>"
      ],
      "text/plain": [
       "  SL\\nNo. DATE OF\\nSEIZURE                                    SEIZING\\nAGENCY  \\\n",
       "0       1       01.02.2019                                  RPF/NCB\\nGuwahati   \n",
       "1       2       02.02.2019  NCB Imphal along with NAB,State Police & Distr...   \n",
       "2       3       02.02.2019                                  BAF/NCB\\nAmritsar   \n",
       "3       4       02.02.2019                         Customs,\\nSIIB, New\\nDelhi   \n",
       "4       5       04.02.2019  NCB Imphal along with NAB, Manipur Rifles,Stat...   \n",
       "\n",
       "                QUANTITY AND\\nDRUG SEIZED\\n(IN KGS.) PLACE\\nOF\\nORIGIN  \\\n",
       "0                                   24.500 kg\\nGanja                 -   \n",
       "1  Destroyed illicit cultivation of Opuim spread ...                 -   \n",
       "2                  3.990 kg\\nHeroin & 80\\ngram Opium               SWA   \n",
       "3                      581.455 kg of\\nDry Chatt/Khat          Ethiopia   \n",
       "4  Destroyed illicit cultivation of Opuim spread ...                 -   \n",
       "\n",
       "  INTENDED\\nDESTINAT\\nION  NAME OF\\nPERSONS ARRESTED  NATION-\\nALITY     AGE  \\\n",
       "0                       -  1.Sanjoy Das\\n2.Juyel Das  Indian\\nIndian  32\\n42   \n",
       "1                       -                          -               -       -   \n",
       "2                       -                          -               -       -   \n",
       "3                       -             1.Ahmed Hassan        Somalian      30   \n",
       "4                       -                          -               -       -   \n",
       "\n",
       "    SEX  \n",
       "0  M\\nM  \n",
       "1     -  \n",
       "2     -  \n",
       "3     M  \n",
       "4     -  "
      ]
     },
     "execution_count": 3,
     "metadata": {},
     "output_type": "execute_result"
    }
   ],
   "source": [
    "df.head()"
   ]
  },
  {
   "cell_type": "code",
   "execution_count": 4,
   "metadata": {},
   "outputs": [
    {
     "data": {
      "text/plain": [
       "(210, 10)"
      ]
     },
     "execution_count": 4,
     "metadata": {},
     "output_type": "execute_result"
    }
   ],
   "source": [
    "df.shape"
   ]
  },
  {
   "cell_type": "code",
   "execution_count": 12,
   "metadata": {},
   "outputs": [
    {
     "data": {
      "text/plain": [
       "SL\\nNo.                                 164\n",
       "DATE OF\\nSEIZURE                        165\n",
       "SEIZING\\nAGENCY                         162\n",
       "QUANTITY AND\\nDRUG SEIZED\\n(IN KGS.)    161\n",
       "PLACE\\nOF\\nORIGIN                       167\n",
       "INTENDED\\nDESTINAT\\nION                 167\n",
       "NAME OF\\nPERSONS ARRESTED               140\n",
       "NATION-\\nALITY                          140\n",
       "AGE                                     140\n",
       "SEX                                     140\n",
       "dtype: int64"
      ]
     },
     "execution_count": 12,
     "metadata": {},
     "output_type": "execute_result"
    }
   ],
   "source": [
    "df.isna().sum()"
   ]
  },
  {
   "cell_type": "code",
   "execution_count": 64,
   "metadata": {},
   "outputs": [
    {
     "data": {
      "text/plain": [
       "Index(['SL\\nNo.', 'DATE OF\\nSEIZURE', 'SEIZING\\nAGENCY',\n",
       "       'QUANTITY AND\\nDRUG SEIZED\\n(IN KGS.)', 'PLACE\\nOF\\nORIGIN',\n",
       "       'INTENDED\\nDESTINAT\\nION', 'NAME OF\\nPERSONS ARRESTED',\n",
       "       'NATION-\\nALITY', 'AGE', 'SEX'],\n",
       "      dtype='object')"
      ]
     },
     "execution_count": 64,
     "metadata": {},
     "output_type": "execute_result"
    }
   ],
   "source": [
    "df.columns"
   ]
  },
  {
   "cell_type": "code",
   "execution_count": 23,
   "metadata": {},
   "outputs": [],
   "source": [
    "df.dropna(subset=['DATE OF\\nSEIZURE'],inplace=True)"
   ]
  },
  {
   "cell_type": "code",
   "execution_count": 25,
   "metadata": {},
   "outputs": [
    {
     "data": {
      "text/plain": [
       "SL\\nNo.                                 0\n",
       "DATE OF\\nSEIZURE                        0\n",
       "SEIZING\\nAGENCY                         0\n",
       "QUANTITY AND\\nDRUG SEIZED\\n(IN KGS.)    0\n",
       "PLACE\\nOF\\nORIGIN                       2\n",
       "INTENDED\\nDESTINAT\\nION                 2\n",
       "NAME OF\\nPERSONS ARRESTED               0\n",
       "NATION-\\nALITY                          0\n",
       "AGE                                     0\n",
       "SEX                                     0\n",
       "dtype: int64"
      ]
     },
     "execution_count": 25,
     "metadata": {},
     "output_type": "execute_result"
    }
   ],
   "source": [
    "df.isna().sum()"
   ]
  },
  {
   "cell_type": "code",
   "execution_count": 40,
   "metadata": {},
   "outputs": [],
   "source": [
    "n_df=df[['DATE OF\\nSEIZURE','AGE']]"
   ]
  },
  {
   "cell_type": "code",
   "execution_count": 41,
   "metadata": {},
   "outputs": [
    {
     "data": {
      "text/plain": [
       "array(['32\\n42', '-', '30', '-\\n-', '20\\n25', '50', '-\\n-\\n-\\n-',\n",
       "       '30\\n19', '24\\n31', '21\\n26', '46', '37', '36\\n34', '38', '35',\n",
       "       '27', '44\\n35'], dtype=object)"
      ]
     },
     "execution_count": 41,
     "metadata": {},
     "output_type": "execute_result"
    }
   ],
   "source": [
    "n_df['AGE'].unique()"
   ]
  },
  {
   "cell_type": "code",
   "execution_count": 42,
   "metadata": {},
   "outputs": [
    {
     "name": "stderr",
     "output_type": "stream",
     "text": [
      "C:\\Users\\Sonal\\Anaconda3\\lib\\site-packages\\pandas\\core\\series.py:4582: SettingWithCopyWarning: \n",
      "A value is trying to be set on a copy of a slice from a DataFrame\n",
      "\n",
      "See the caveats in the documentation: https://pandas.pydata.org/pandas-docs/stable/user_guide/indexing.html#returning-a-view-versus-a-copy\n",
      "  method=method,\n"
     ]
    }
   ],
   "source": [
    "n_df['AGE'].replace({\n",
    "    '32\\n42':37, '20\\n25':22,'30\\n19':25, '24\\n31':27, '21\\n26':24, '36\\n34':35,'44\\n35':40\n",
    "},inplace=True)"
   ]
  },
  {
   "cell_type": "code",
   "execution_count": 45,
   "metadata": {},
   "outputs": [
    {
     "name": "stderr",
     "output_type": "stream",
     "text": [
      "C:\\Users\\Sonal\\Anaconda3\\lib\\site-packages\\ipykernel_launcher.py:1: SettingWithCopyWarning: \n",
      "A value is trying to be set on a copy of a slice from a DataFrame.\n",
      "Try using .loc[row_indexer,col_indexer] = value instead\n",
      "\n",
      "See the caveats in the documentation: https://pandas.pydata.org/pandas-docs/stable/user_guide/indexing.html#returning-a-view-versus-a-copy\n",
      "  \"\"\"Entry point for launching an IPython kernel.\n"
     ]
    }
   ],
   "source": [
    "n_df['AGE']=pd.to_numeric(n_df['AGE'],errors='coerce')"
   ]
  },
  {
   "cell_type": "code",
   "execution_count": 49,
   "metadata": {},
   "outputs": [
    {
     "name": "stderr",
     "output_type": "stream",
     "text": [
      "C:\\Users\\Sonal\\Anaconda3\\lib\\site-packages\\pandas\\core\\series.py:4536: SettingWithCopyWarning: \n",
      "A value is trying to be set on a copy of a slice from a DataFrame\n",
      "\n",
      "See the caveats in the documentation: https://pandas.pydata.org/pandas-docs/stable/user_guide/indexing.html#returning-a-view-versus-a-copy\n",
      "  downcast=downcast,\n"
     ]
    }
   ],
   "source": [
    "n_df['AGE'].fillna(n_df['AGE'].mean(),inplace=True)"
   ]
  },
  {
   "cell_type": "code",
   "execution_count": 50,
   "metadata": {},
   "outputs": [
    {
     "data": {
      "text/plain": [
       "DATE OF\\nSEIZURE    0\n",
       "AGE                 0\n",
       "dtype: int64"
      ]
     },
     "execution_count": 50,
     "metadata": {},
     "output_type": "execute_result"
    }
   ],
   "source": [
    "n_df.isna().sum()"
   ]
  },
  {
   "cell_type": "code",
   "execution_count": 51,
   "metadata": {},
   "outputs": [
    {
     "data": {
      "text/html": [
       "<div>\n",
       "<style scoped>\n",
       "    .dataframe tbody tr th:only-of-type {\n",
       "        vertical-align: middle;\n",
       "    }\n",
       "\n",
       "    .dataframe tbody tr th {\n",
       "        vertical-align: top;\n",
       "    }\n",
       "\n",
       "    .dataframe thead th {\n",
       "        text-align: right;\n",
       "    }\n",
       "</style>\n",
       "<table border=\"1\" class=\"dataframe\">\n",
       "  <thead>\n",
       "    <tr style=\"text-align: right;\">\n",
       "      <th></th>\n",
       "      <th>DATE OF\\nSEIZURE</th>\n",
       "      <th>AGE</th>\n",
       "    </tr>\n",
       "  </thead>\n",
       "  <tbody>\n",
       "    <tr>\n",
       "      <th>0</th>\n",
       "      <td>01.02.2019</td>\n",
       "      <td>37.000000</td>\n",
       "    </tr>\n",
       "    <tr>\n",
       "      <th>1</th>\n",
       "      <td>02.02.2019</td>\n",
       "      <td>32.944444</td>\n",
       "    </tr>\n",
       "    <tr>\n",
       "      <th>2</th>\n",
       "      <td>02.02.2019</td>\n",
       "      <td>32.944444</td>\n",
       "    </tr>\n",
       "    <tr>\n",
       "      <th>3</th>\n",
       "      <td>02.02.2019</td>\n",
       "      <td>30.000000</td>\n",
       "    </tr>\n",
       "    <tr>\n",
       "      <th>4</th>\n",
       "      <td>04.02.2019</td>\n",
       "      <td>32.944444</td>\n",
       "    </tr>\n",
       "  </tbody>\n",
       "</table>\n",
       "</div>"
      ],
      "text/plain": [
       "  DATE OF\\nSEIZURE        AGE\n",
       "0       01.02.2019  37.000000\n",
       "1       02.02.2019  32.944444\n",
       "2       02.02.2019  32.944444\n",
       "3       02.02.2019  30.000000\n",
       "4       04.02.2019  32.944444"
      ]
     },
     "execution_count": 51,
     "metadata": {},
     "output_type": "execute_result"
    },
    {
     "data": {
      "text/plain": [
       "<Figure size 576x576 with 0 Axes>"
      ]
     },
     "metadata": {},
     "output_type": "display_data"
    }
   ],
   "source": [
    "plt.figure(figsize=(8,8))\n",
    "n_df.sort_values(by=['AGE'],ascending=True)\n",
    "n_df.head()"
   ]
  },
  {
   "cell_type": "code",
   "execution_count": 54,
   "metadata": {},
   "outputs": [
    {
     "data": {
      "text/plain": [
       "Text(0.5, 1.0, 'Time vs Age')"
      ]
     },
     "execution_count": 54,
     "metadata": {},
     "output_type": "execute_result"
    },
    {
     "data": {
      "image/png": "[encoded data removed]",
      "text/plain": [
       "<Figure size 432x288 with 1 Axes>"
      ]
     },
     "metadata": {
      "needs_background": "light"
     },
     "output_type": "display_data"
    }
   ],
   "source": [
    "plt.plot(n_df['DATE OF\\nSEIZURE'],n_df['AGE'])\n",
    "plt.xlabel('Time')\n",
    "plt.ylabel('Age')\n",
    "plt.xticks(rotation=45)\n",
    "plt.ylim(0,50)\n",
    "plt.title('Time vs Age')"
   ]
  },
  {
   "cell_type": "code",
   "execution_count": 55,
   "metadata": {},
   "outputs": [
    {
     "data": {
      "text/plain": [
       "Text(0.5, 1.0, 'Time vs Age')"
      ]
     },
     "execution_count": 55,
     "metadata": {},
     "output_type": "execute_result"
    },
    {
     "data": {
      "image/png": "[encoded data removed]",
      "text/plain": [
       "<Figure size 432x288 with 1 Axes>"
      ]
     },
     "metadata": {
      "needs_background": "light"
     },
     "output_type": "display_data"
    }
   ],
   "source": [
    "plt.bar(n_df['DATE OF\\nSEIZURE'],n_df['AGE'])\n",
    "plt.xlabel('Time')\n",
    "plt.ylabel('Age')\n",
    "plt.xticks(rotation=45)\n",
    "plt.ylim(0,50)\n",
    "plt.title('Time vs Age')"
   ]
  },
  {
   "cell_type": "code",
   "execution_count": 56,
   "metadata": {},
   "outputs": [
    {
     "data": {
      "text/plain": [
       "array(['M\\nM', '-', 'M', 'F', 'M\\nM\\nM\\nM'], dtype=object)"
      ]
     },
     "execution_count": 56,
     "metadata": {},
     "output_type": "execute_result"
    }
   ],
   "source": [
    "df['SEX'].unique()"
   ]
  },
  {
   "cell_type": "code",
   "execution_count": 57,
   "metadata": {},
   "outputs": [],
   "source": [
    "df['SEX'].replace({\n",
    "    'M\\nM':'M', '-':'N', 'M\\nM\\nM\\nM':'M'\n",
    "},inplace=True)"
   ]
  },
  {
   "cell_type": "code",
   "execution_count": 58,
   "metadata": {},
   "outputs": [
    {
     "data": {
      "text/plain": [
       "array(['M', 'N', 'F'], dtype=object)"
      ]
     },
     "execution_count": 58,
     "metadata": {},
     "output_type": "execute_result"
    }
   ],
   "source": [
    "df['SEX'].unique()"
   ]
  },
  {
   "cell_type": "code",
   "execution_count": 63,
   "metadata": {},
   "outputs": [
    {
     "data": {
      "text/plain": [
       "(array([22.,  0.,  0.,  0.,  0., 20.,  0.,  0.,  0.,  3.]),\n",
       " array([0. , 0.2, 0.4, 0.6, 0.8, 1. , 1.2, 1.4, 1.6, 1.8, 2. ]),\n",
       " <BarContainer object of 10 artists>)"
      ]
     },
     "execution_count": 63,
     "metadata": {},
     "output_type": "execute_result"
    },
    {
     "data": {
      "image/png": "[encoded data removed]",
      "text/plain": [
       "<Figure size 432x288 with 1 Axes>"
      ]
     },
     "metadata": {
      "needs_background": "light"
     },
     "output_type": "display_data"
    }
   ],
   "source": [
    "plt.hist(df['SEX'],width=0.5)"
   ]
  },
  {
   "cell_type": "code",
   "execution_count": 67,
   "metadata": {},
   "outputs": [],
   "source": [
    "df.rename(columns={\n",
    "    'SL\\nNo.':'id', 'DATE OF\\nSEIZURE':'date_of_seizure', 'SEIZING\\nAGENCY':'agency',\n",
    "       'QUANTITY AND\\nDRUG SEIZED\\n(IN KGS.)':'quantity', 'PLACE\\nOF\\nORIGIN':'place',\n",
    "       'INTENDED\\nDESTINAT\\nION':'Destination', 'NAME OF\\nPERSONS ARRESTED':'Name',\n",
    "       'NATION-\\nALITY':'Country', 'AGE':'age', 'SEX':'sex'\n",
    "},inplace=True)"
   ]
  },
  {
   "cell_type": "code",
   "execution_count": 68,
   "metadata": {},
   "outputs": [
    {
     "data": {
      "text/plain": [
       "Index(['id', 'date_of_seizure', 'agency', 'quantity', 'place', 'Destination',\n",
       "       'Name', 'Country', 'age', 'sex'],\n",
       "      dtype='object')"
      ]
     },
     "execution_count": 68,
     "metadata": {},
     "output_type": "execute_result"
    }
   ],
   "source": [
    "df.columns"
   ]
  },
  {
   "cell_type": "code",
   "execution_count": 70,
   "metadata": {},
   "outputs": [
    {
     "data": {
      "text/plain": [
       "array(['Indian\\nIndian', '-', 'Somalian', 'Indian',\n",
       "       'Indian\\nIndian\\nIndian\\nIndian', 'Venezuela', 'Nepalese'],\n",
       "      dtype=object)"
      ]
     },
     "execution_count": 70,
     "metadata": {},
     "output_type": "execute_result"
    }
   ],
   "source": [
    "df['Country'].unique()"
   ]
  },
  {
   "cell_type": "code",
   "execution_count": 72,
   "metadata": {},
   "outputs": [],
   "source": [
    "df['Country'].replace({\n",
    "    'Indian\\nIndian':'Indian', '-':'Indian',\n",
    "    'Indian\\nIndian\\nIndian\\nIndian':'Indian',\n",
    "},inplace=True)"
   ]
  },
  {
   "cell_type": "code",
   "execution_count": 73,
   "metadata": {},
   "outputs": [
    {
     "data": {
      "text/plain": [
       "Indian       42\n",
       "Nepalese      1\n",
       "Venezuela     1\n",
       "Somalian      1\n",
       "Name: Country, dtype: int64"
      ]
     },
     "execution_count": 73,
     "metadata": {},
     "output_type": "execute_result"
    }
   ],
   "source": [
    "df['Country'].value_counts()"
   ]
  },
  {
   "cell_type": "code",
   "execution_count": 80,
   "metadata": {},
   "outputs": [
    {
     "data": {
      "image/png": "[encoded data removed]",
      "text/plain": [
       "<Figure size 432x288 with 1 Axes>"
      ]
     },
     "metadata": {},
     "output_type": "display_data"
    }
   ],
   "source": [
    "plt.pie(df['Country'].value_counts(),labels=df['Country'].value_counts().keys(),autopct='%.2f')\n",
    "plt.show()"
   ]
  },
  {
   "cell_type": "code",
   "execution_count": 88,
   "metadata": {},
   "outputs": [],
   "source": [
    "df['age']=n_df['AGE']\n",
    "df['age']=pd.to_numeric(df['age'],errors='coerce')"
   ]
  },
  {
   "cell_type": "code",
   "execution_count": 89,
   "metadata": {},
   "outputs": [
    {
     "data": {
      "text/plain": [
       "<bound method Series.unique of 0     37.000000\n",
       "1     32.944444\n",
       "2     32.944444\n",
       "3     30.000000\n",
       "4     32.944444\n",
       "5     32.944444\n",
       "6     32.944444\n",
       "7     32.944444\n",
       "8     32.944444\n",
       "9     22.000000\n",
       "10    32.944444\n",
       "11    32.944444\n",
       "12    32.944444\n",
       "13    50.000000\n",
       "14    32.944444\n",
       "15    30.000000\n",
       "16    32.944444\n",
       "17    25.000000\n",
       "18    32.944444\n",
       "19    32.944444\n",
       "20    32.944444\n",
       "21    27.000000\n",
       "23    24.000000\n",
       "24    32.944444\n",
       "25    30.000000\n",
       "32    46.000000\n",
       "33    37.000000\n",
       "34    32.944444\n",
       "35    35.000000\n",
       "36    38.000000\n",
       "37    32.944444\n",
       "38    32.944444\n",
       "39    32.944444\n",
       "40    35.000000\n",
       "41    32.944444\n",
       "46    27.000000\n",
       "47    32.944444\n",
       "48    32.944444\n",
       "49    30.000000\n",
       "50    32.944444\n",
       "51    40.000000\n",
       "52    30.000000\n",
       "53    32.944444\n",
       "54    32.944444\n",
       "55    32.944444\n",
       "Name: age, dtype: float64>"
      ]
     },
     "execution_count": 89,
     "metadata": {},
     "output_type": "execute_result"
    }
   ],
   "source": [
    "df['age'].unique"
   ]
  },
  {
   "cell_type": "code",
   "execution_count": 90,
   "metadata": {},
   "outputs": [],
   "source": [
    "df['AGE_range']=pd.cut(df['age'],bins=[0,20,25,60],labels=['young','middle_aged','senior'])"
   ]
  },
  {
   "cell_type": "code",
   "execution_count": 91,
   "metadata": {},
   "outputs": [
    {
     "data": {
      "text/plain": [
       "0          senior\n",
       "1          senior\n",
       "2          senior\n",
       "3          senior\n",
       "4          senior\n",
       "5          senior\n",
       "6          senior\n",
       "7          senior\n",
       "8          senior\n",
       "9     middle_aged\n",
       "10         senior\n",
       "11         senior\n",
       "12         senior\n",
       "13         senior\n",
       "14         senior\n",
       "15         senior\n",
       "16         senior\n",
       "17    middle_aged\n",
       "18         senior\n",
       "19         senior\n",
       "20         senior\n",
       "21         senior\n",
       "23    middle_aged\n",
       "24         senior\n",
       "25         senior\n",
       "32         senior\n",
       "33         senior\n",
       "34         senior\n",
       "35         senior\n",
       "36         senior\n",
       "37         senior\n",
       "38         senior\n",
       "39         senior\n",
       "40         senior\n",
       "41         senior\n",
       "46         senior\n",
       "47         senior\n",
       "48         senior\n",
       "49         senior\n",
       "50         senior\n",
       "51         senior\n",
       "52         senior\n",
       "53         senior\n",
       "54         senior\n",
       "55         senior\n",
       "Name: AGE_range, dtype: category\n",
       "Categories (3, object): ['young' < 'middle_aged' < 'senior']"
      ]
     },
     "execution_count": 91,
     "metadata": {},
     "output_type": "execute_result"
    }
   ],
   "source": [
    "df['AGE_range']"
   ]
  },
  {
   "cell_type": "code",
   "execution_count": 93,
   "metadata": {},
   "outputs": [
    {
     "data": {
      "text/plain": [
       "2"
      ]
     },
     "execution_count": 93,
     "metadata": {},
     "output_type": "execute_result"
    }
   ],
   "source": [
    "df['Destination'].isna().sum()"
   ]
  },
  {
   "cell_type": "code",
   "execution_count": 94,
   "metadata": {},
   "outputs": [
    {
     "data": {
      "text/plain": [
       "array(['-', 'Doha,\\nQatar', 'South\\nAfrica', nan, 'USA'], dtype=object)"
      ]
     },
     "execution_count": 94,
     "metadata": {},
     "output_type": "execute_result"
    }
   ],
   "source": [
    "df['Destination'].unique()"
   ]
  },
  {
   "cell_type": "code",
   "execution_count": 95,
   "metadata": {},
   "outputs": [],
   "source": [
    "df['Destination'].replace(\n",
    "{\n",
    "    '-':'India', 'Doha,\\nQatar':'Doha_Qatar', 'South\\nAfrica':'SA', np.NaN:'India' ,\n",
    "},inplace=True)"
   ]
  },
  {
   "cell_type": "code",
   "execution_count": 96,
   "metadata": {},
   "outputs": [
    {
     "data": {
      "text/plain": [
       "array(['India', 'Doha_Qatar', 'SA', 'USA'], dtype=object)"
      ]
     },
     "execution_count": 96,
     "metadata": {},
     "output_type": "execute_result"
    }
   ],
   "source": [
    "df['Destination'].unique()"
   ]
  },
  {
   "cell_type": "code",
   "execution_count": 97,
   "metadata": {},
   "outputs": [
    {
     "data": {
      "text/plain": [
       "India         42\n",
       "USA            1\n",
       "SA             1\n",
       "Doha_Qatar     1\n",
       "Name: Destination, dtype: int64"
      ]
     },
     "execution_count": 97,
     "metadata": {},
     "output_type": "execute_result"
    }
   ],
   "source": [
    "df['Destination'].value_counts()"
   ]
  },
  {
   "cell_type": "code",
   "execution_count": 103,
   "metadata": {},
   "outputs": [
    {
     "data": {
      "text/plain": [
       "<AxesSubplot:>"
      ]
     },
     "execution_count": 103,
     "metadata": {},
     "output_type": "execute_result"
    },
    {
     "data": {
      "image/png": "[encoded data removed]",
      "text/plain": [
       "<Figure size 432x288 with 1 Axes>"
      ]
     },
     "metadata": {
      "needs_background": "light"
     },
     "output_type": "display_data"
    }
   ],
   "source": [
    "df['Destination'].value_counts().plot(kind='bar')"
   ]
  },
  {
   "cell_type": "code",
   "execution_count": 106,
   "metadata": {},
   "outputs": [
    {
     "data": {
      "text/plain": [
       "(array([ 2.,  3.,  5., 27.,  2.,  3.,  1.,  0.,  1.,  1.]),\n",
       " array([22. , 24.8, 27.6, 30.4, 33.2, 36. , 38.8, 41.6, 44.4, 47.2, 50. ]),\n",
       " <BarContainer object of 10 artists>)"
      ]
     },
     "execution_count": 106,
     "metadata": {},
     "output_type": "execute_result"
    },
    {
     "data": {
      "image/png": "[encoded data removed]",
      "text/plain": [
       "<Figure size 432x288 with 1 Axes>"
      ]
     },
     "metadata": {
      "needs_background": "light"
     },
     "output_type": "display_data"
    }
   ],
   "source": [
    "plt.hist(df['age'])"
   ]
  },
  {
   "cell_type": "code",
   "execution_count": 108,
   "metadata": {},
   "outputs": [
    {
     "data": {
      "text/plain": [
       "<AxesSubplot:>"
      ]
     },
     "execution_count": 108,
     "metadata": {},
     "output_type": "execute_result"
    },
    {
     "data": {
      "image/png": "[encoded data removed]",
      "text/plain": [
       "<Figure size 432x288 with 2 Axes>"
      ]
     },
     "metadata": {
      "needs_background": "light"
     },
     "output_type": "display_data"
    }
   ],
   "source": [
    "sns.heatmap(df.corr(),annot=True)"
   ]
  },
  {
   "cell_type": "code",
   "execution_count": 109,
   "metadata": {},
   "outputs": [
    {
     "data": {
      "text/html": [
       "<div>\n",
       "<style scoped>\n",
       "    .dataframe tbody tr th:only-of-type {\n",
       "        vertical-align: middle;\n",
       "    }\n",
       "\n",
       "    .dataframe tbody tr th {\n",
       "        vertical-align: top;\n",
       "    }\n",
       "\n",
       "    .dataframe thead th {\n",
       "        text-align: right;\n",
       "    }\n",
       "</style>\n",
       "<table border=\"1\" class=\"dataframe\">\n",
       "  <thead>\n",
       "    <tr style=\"text-align: right;\">\n",
       "      <th></th>\n",
       "      <th>id</th>\n",
       "      <th>date_of_seizure</th>\n",
       "      <th>agency</th>\n",
       "      <th>quantity</th>\n",
       "      <th>place</th>\n",
       "      <th>Destination</th>\n",
       "      <th>Name</th>\n",
       "      <th>Country</th>\n",
       "      <th>age</th>\n",
       "      <th>sex</th>\n",
       "      <th>AGE_range</th>\n",
       "    </tr>\n",
       "  </thead>\n",
       "  <tbody>\n",
       "    <tr>\n",
       "      <th>0</th>\n",
       "      <td>1</td>\n",
       "      <td>01.02.2019</td>\n",
       "      <td>RPF/NCB\\nGuwahati</td>\n",
       "      <td>24.500 kg\\nGanja</td>\n",
       "      <td>-</td>\n",
       "      <td>India</td>\n",
       "      <td>1.Sanjoy Das\\n2.Juyel Das</td>\n",
       "      <td>Indian</td>\n",
       "      <td>37.000000</td>\n",
       "      <td>M</td>\n",
       "      <td>senior</td>\n",
       "    </tr>\n",
       "    <tr>\n",
       "      <th>1</th>\n",
       "      <td>2</td>\n",
       "      <td>02.02.2019</td>\n",
       "      <td>NCB Imphal along with NAB,State Police &amp; Distr...</td>\n",
       "      <td>Destroyed illicit cultivation of Opuim spread ...</td>\n",
       "      <td>-</td>\n",
       "      <td>India</td>\n",
       "      <td>-</td>\n",
       "      <td>Indian</td>\n",
       "      <td>32.944444</td>\n",
       "      <td>N</td>\n",
       "      <td>senior</td>\n",
       "    </tr>\n",
       "    <tr>\n",
       "      <th>2</th>\n",
       "      <td>3</td>\n",
       "      <td>02.02.2019</td>\n",
       "      <td>BAF/NCB\\nAmritsar</td>\n",
       "      <td>3.990 kg\\nHeroin &amp; 80\\ngram Opium</td>\n",
       "      <td>SWA</td>\n",
       "      <td>India</td>\n",
       "      <td>-</td>\n",
       "      <td>Indian</td>\n",
       "      <td>32.944444</td>\n",
       "      <td>N</td>\n",
       "      <td>senior</td>\n",
       "    </tr>\n",
       "    <tr>\n",
       "      <th>3</th>\n",
       "      <td>4</td>\n",
       "      <td>02.02.2019</td>\n",
       "      <td>Customs,\\nSIIB, New\\nDelhi</td>\n",
       "      <td>581.455 kg of\\nDry Chatt/Khat</td>\n",
       "      <td>Ethiopia</td>\n",
       "      <td>India</td>\n",
       "      <td>1.Ahmed Hassan</td>\n",
       "      <td>Somalian</td>\n",
       "      <td>30.000000</td>\n",
       "      <td>M</td>\n",
       "      <td>senior</td>\n",
       "    </tr>\n",
       "    <tr>\n",
       "      <th>4</th>\n",
       "      <td>5</td>\n",
       "      <td>04.02.2019</td>\n",
       "      <td>NCB Imphal along with NAB, Manipur Rifles,Stat...</td>\n",
       "      <td>Destroyed illicit cultivation of Opuim spread ...</td>\n",
       "      <td>-</td>\n",
       "      <td>India</td>\n",
       "      <td>-</td>\n",
       "      <td>Indian</td>\n",
       "      <td>32.944444</td>\n",
       "      <td>N</td>\n",
       "      <td>senior</td>\n",
       "    </tr>\n",
       "  </tbody>\n",
       "</table>\n",
       "</div>"
      ],
      "text/plain": [
       "  id date_of_seizure                                             agency  \\\n",
       "0  1      01.02.2019                                  RPF/NCB\\nGuwahati   \n",
       "1  2      02.02.2019  NCB Imphal along with NAB,State Police & Distr...   \n",
       "2  3      02.02.2019                                  BAF/NCB\\nAmritsar   \n",
       "3  4      02.02.2019                         Customs,\\nSIIB, New\\nDelhi   \n",
       "4  5      04.02.2019  NCB Imphal along with NAB, Manipur Rifles,Stat...   \n",
       "\n",
       "                                            quantity     place Destination  \\\n",
       "0                                   24.500 kg\\nGanja         -       India   \n",
       "1  Destroyed illicit cultivation of Opuim spread ...         -       India   \n",
       "2                  3.990 kg\\nHeroin & 80\\ngram Opium       SWA       India   \n",
       "3                      581.455 kg of\\nDry Chatt/Khat  Ethiopia       India   \n",
       "4  Destroyed illicit cultivation of Opuim spread ...         -       India   \n",
       "\n",
       "                        Name   Country        age sex AGE_range  \n",
       "0  1.Sanjoy Das\\n2.Juyel Das    Indian  37.000000   M    senior  \n",
       "1                          -    Indian  32.944444   N    senior  \n",
       "2                          -    Indian  32.944444   N    senior  \n",
       "3             1.Ahmed Hassan  Somalian  30.000000   M    senior  \n",
       "4                          -    Indian  32.944444   N    senior  "
      ]
     },
     "execution_count": 109,
     "metadata": {},
     "output_type": "execute_result"
    }
   ],
   "source": [
    "df.head()"
   ]
  },
  {
   "cell_type": "code",
   "execution_count": 116,
   "metadata": {},
   "outputs": [
    {
     "data": {
      "text/plain": [
       "'Customs,\\nSIIB, New\\nDelhi'"
      ]
     },
     "execution_count": 116,
     "metadata": {},
     "output_type": "execute_result"
    }
   ],
   "source": [
    "df.at[3,'agency']"
   ]
  },
  {
   "cell_type": "code",
   "execution_count": null,
   "metadata": {},
   "outputs": [],
   "source": []
  }
 ],
 "metadata": {
  "kernelspec": {
   "display_name": "Python 3",
   "language": "python",
   "name": "python3"
  },
  "language_info": {
   "codemirror_mode": {
    "name": "ipython",
    "version": 3
   },
   "file_extension": ".py",
   "mimetype": "text/x-python",
   "name": "python",
   "nbconvert_exporter": "python",
   "pygments_lexer": "ipython3",
   "version": "3.6.5"
  }
 },
 "nbformat": 4,
 "nbformat_minor": 4
}
