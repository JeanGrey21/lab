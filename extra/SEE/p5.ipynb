{
 "cells": [
  {
   "cell_type": "code",
   "execution_count": 19,
   "metadata": {},
   "outputs": [],
   "source": [
    "import pandas as pd\n",
    "import numpy as np\n",
    "import seaborn as sns\n",
    "from sklearn.tree import DecisionTreeClassifier\n",
    "from sklearn.metrics import accuracy_score,confusion_matrix,classification_report\n",
    "from sklearn.model_selection import train_test_split\n",
    "\n",
    "\n",
    "from sklearn.tree import export_graphviz\n",
    "from six import StringIO\n",
    "from IPython.display import Image\n",
    "import pydotplus"
   ]
  },
  {
   "cell_type": "code",
   "execution_count": 4,
   "metadata": {},
   "outputs": [],
   "source": [
    "df=pd.read_csv('./../P5_Diabetes.csv')"
   ]
  },
  {
   "cell_type": "code",
   "execution_count": 5,
   "metadata": {},
   "outputs": [
    {
     "data": {
      "text/html": [
       "<div>\n",
       "<style scoped>\n",
       "    .dataframe tbody tr th:only-of-type {\n",
       "        vertical-align: middle;\n",
       "    }\n",
       "\n",
       "    .dataframe tbody tr th {\n",
       "        vertical-align: top;\n",
       "    }\n",
       "\n",
       "    .dataframe thead th {\n",
       "        text-align: right;\n",
       "    }\n",
       "</style>\n",
       "<table border=\"1\" class=\"dataframe\">\n",
       "  <thead>\n",
       "    <tr style=\"text-align: right;\">\n",
       "      <th></th>\n",
       "      <th>Pregnancies</th>\n",
       "      <th>Glucose</th>\n",
       "      <th>BloodPressure</th>\n",
       "      <th>SkinThickness</th>\n",
       "      <th>Insulin</th>\n",
       "      <th>BMI</th>\n",
       "      <th>DiabetesPedigreeFunction</th>\n",
       "      <th>Age</th>\n",
       "      <th>Outcome</th>\n",
       "    </tr>\n",
       "  </thead>\n",
       "  <tbody>\n",
       "    <tr>\n",
       "      <th>0</th>\n",
       "      <td>6</td>\n",
       "      <td>148</td>\n",
       "      <td>72</td>\n",
       "      <td>35</td>\n",
       "      <td>0</td>\n",
       "      <td>33.6</td>\n",
       "      <td>0.627</td>\n",
       "      <td>50</td>\n",
       "      <td>1</td>\n",
       "    </tr>\n",
       "    <tr>\n",
       "      <th>1</th>\n",
       "      <td>1</td>\n",
       "      <td>85</td>\n",
       "      <td>66</td>\n",
       "      <td>29</td>\n",
       "      <td>0</td>\n",
       "      <td>26.6</td>\n",
       "      <td>0.351</td>\n",
       "      <td>31</td>\n",
       "      <td>0</td>\n",
       "    </tr>\n",
       "    <tr>\n",
       "      <th>2</th>\n",
       "      <td>8</td>\n",
       "      <td>183</td>\n",
       "      <td>64</td>\n",
       "      <td>0</td>\n",
       "      <td>0</td>\n",
       "      <td>23.3</td>\n",
       "      <td>0.672</td>\n",
       "      <td>32</td>\n",
       "      <td>1</td>\n",
       "    </tr>\n",
       "    <tr>\n",
       "      <th>3</th>\n",
       "      <td>1</td>\n",
       "      <td>89</td>\n",
       "      <td>66</td>\n",
       "      <td>23</td>\n",
       "      <td>94</td>\n",
       "      <td>28.1</td>\n",
       "      <td>0.167</td>\n",
       "      <td>21</td>\n",
       "      <td>0</td>\n",
       "    </tr>\n",
       "    <tr>\n",
       "      <th>4</th>\n",
       "      <td>0</td>\n",
       "      <td>137</td>\n",
       "      <td>40</td>\n",
       "      <td>35</td>\n",
       "      <td>168</td>\n",
       "      <td>43.1</td>\n",
       "      <td>2.288</td>\n",
       "      <td>33</td>\n",
       "      <td>1</td>\n",
       "    </tr>\n",
       "  </tbody>\n",
       "</table>\n",
       "</div>"
      ],
      "text/plain": [
       "   Pregnancies  Glucose  BloodPressure  SkinThickness  Insulin   BMI  \\\n",
       "0            6      148             72             35        0  33.6   \n",
       "1            1       85             66             29        0  26.6   \n",
       "2            8      183             64              0        0  23.3   \n",
       "3            1       89             66             23       94  28.1   \n",
       "4            0      137             40             35      168  43.1   \n",
       "\n",
       "   DiabetesPedigreeFunction  Age  Outcome  \n",
       "0                     0.627   50        1  \n",
       "1                     0.351   31        0  \n",
       "2                     0.672   32        1  \n",
       "3                     0.167   21        0  \n",
       "4                     2.288   33        1  "
      ]
     },
     "execution_count": 5,
     "metadata": {},
     "output_type": "execute_result"
    }
   ],
   "source": [
    "df.head()"
   ]
  },
  {
   "cell_type": "code",
   "execution_count": 6,
   "metadata": {},
   "outputs": [
    {
     "data": {
      "text/plain": [
       "(768, 9)"
      ]
     },
     "execution_count": 6,
     "metadata": {},
     "output_type": "execute_result"
    }
   ],
   "source": [
    "df.shape"
   ]
  },
  {
   "cell_type": "code",
   "execution_count": 7,
   "metadata": {},
   "outputs": [],
   "source": [
    "X=df.drop(['Outcome'],axis=1)"
   ]
  },
  {
   "cell_type": "code",
   "execution_count": 8,
   "metadata": {},
   "outputs": [],
   "source": [
    "y=df['Outcome']"
   ]
  },
  {
   "cell_type": "code",
   "execution_count": 10,
   "metadata": {},
   "outputs": [],
   "source": [
    "X_train,X_test,y_train,y_test=train_test_split(X,y,test_size=0.2,random_state=0)"
   ]
  },
  {
   "cell_type": "code",
   "execution_count": 22,
   "metadata": {},
   "outputs": [
    {
     "data": {
      "text/plain": [
       "((614, 8), (614,))"
      ]
     },
     "execution_count": 22,
     "metadata": {},
     "output_type": "execute_result"
    }
   ],
   "source": [
    "X_train.shape,y_train.shape"
   ]
  },
  {
   "cell_type": "code",
   "execution_count": 23,
   "metadata": {},
   "outputs": [
    {
     "data": {
      "text/plain": [
       "((154, 8), (154,))"
      ]
     },
     "execution_count": 23,
     "metadata": {},
     "output_type": "execute_result"
    }
   ],
   "source": [
    "X_test.shape,y_test.shape"
   ]
  },
  {
   "cell_type": "code",
   "execution_count": 45,
   "metadata": {},
   "outputs": [],
   "source": [
    "clf=DecisionTreeClassifier(criterion='entropy',max_depth=3)"
   ]
  },
  {
   "cell_type": "code",
   "execution_count": 46,
   "metadata": {},
   "outputs": [
    {
     "data": {
      "text/plain": [
       "DecisionTreeClassifier(criterion='entropy', max_depth=3)"
      ]
     },
     "execution_count": 46,
     "metadata": {},
     "output_type": "execute_result"
    }
   ],
   "source": [
    "clf.fit(X_train,y_train)"
   ]
  },
  {
   "cell_type": "code",
   "execution_count": 47,
   "metadata": {},
   "outputs": [],
   "source": [
    "y_pred=clf.predict(X_test)"
   ]
  },
  {
   "cell_type": "code",
   "execution_count": 48,
   "metadata": {},
   "outputs": [
    {
     "data": {
      "text/plain": [
       "0.7597402597402597"
      ]
     },
     "execution_count": 48,
     "metadata": {},
     "output_type": "execute_result"
    }
   ],
   "source": [
    "accuracy_score(y_pred,y_test)"
   ]
  },
  {
   "cell_type": "code",
   "execution_count": 49,
   "metadata": {},
   "outputs": [],
   "source": [
    "cm=confusion_matrix(y_test,y_pred)"
   ]
  },
  {
   "cell_type": "code",
   "execution_count": 50,
   "metadata": {},
   "outputs": [
    {
     "data": {
      "text/plain": [
       "<AxesSubplot:>"
      ]
     },
     "execution_count": 50,
     "metadata": {},
     "output_type": "execute_result"
    },
    {
     "data": {
      "image/png": "[encoded data removed]",
      "text/plain": [
       "<Figure size 432x288 with 2 Axes>"
      ]
     },
     "metadata": {
      "needs_background": "light"
     },
     "output_type": "display_data"
    }
   ],
   "source": [
    "sns.heatmap(cm,annot=True)"
   ]
  },
  {
   "cell_type": "code",
   "execution_count": 51,
   "metadata": {},
   "outputs": [
    {
     "name": "stdout",
     "output_type": "stream",
     "text": [
      "              precision    recall  f1-score   support\n",
      "\n",
      "           0       0.80      0.87      0.83       107\n",
      "           1       0.63      0.51      0.56        47\n",
      "\n",
      "    accuracy                           0.76       154\n",
      "   macro avg       0.72      0.69      0.70       154\n",
      "weighted avg       0.75      0.76      0.75       154\n",
      "\n"
     ]
    }
   ],
   "source": [
    "print(classification_report(y_test,y_pred))"
   ]
  },
  {
   "cell_type": "code",
   "execution_count": 52,
   "metadata": {},
   "outputs": [
    {
     "data": {
      "image/png": "[encoded data removed]",
      "text/plain": [
       "<IPython.core.display.Image object>"
      ]
     },
     "execution_count": 52,
     "metadata": {},
     "output_type": "execute_result"
    }
   ],
   "source": [
    "dot_data=StringIO()\n",
    "export_graphviz(clf,out_file=dot_data,filled=True,rounded=True,special_characters=True,feature_names=X.columns,class_names=['0','1'])\n",
    "graph=pydotplus.graph_from_dot_data(dot_data.getvalue())\n",
    "graph.write_png('d.png')\n",
    "Image(graph.create_png())"
   ]
  },
  {
   "cell_type": "code",
   "execution_count": null,
   "metadata": {},
   "outputs": [],
   "source": []
  },
  {
   "cell_type": "code",
   "execution_count": 173,
   "metadata": {},
   "outputs": [],
   "source": [
    "df1=pd.read_csv('Narcotics_Dataset.csv')"
   ]
  },
  {
   "cell_type": "code",
   "execution_count": 174,
   "metadata": {},
   "outputs": [
    {
     "data": {
      "text/html": [
       "<div>\n",
       "<style scoped>\n",
       "    .dataframe tbody tr th:only-of-type {\n",
       "        vertical-align: middle;\n",
       "    }\n",
       "\n",
       "    .dataframe tbody tr th {\n",
       "        vertical-align: top;\n",
       "    }\n",
       "\n",
       "    .dataframe thead th {\n",
       "        text-align: right;\n",
       "    }\n",
       "</style>\n",
       "<table border=\"1\" class=\"dataframe\">\n",
       "  <thead>\n",
       "    <tr style=\"text-align: right;\">\n",
       "      <th></th>\n",
       "      <th>SL\\nNo.</th>\n",
       "      <th>DATE OF\\nSEIZURE</th>\n",
       "      <th>SEIZING\\nAGENCY</th>\n",
       "      <th>QUANTITY AND\\nDRUG SEIZED\\n(IN KGS.)</th>\n",
       "      <th>PLACE\\nOF\\nORIGIN</th>\n",
       "      <th>INTENDED\\nDESTINAT\\nION</th>\n",
       "      <th>NAME OF\\nPERSONS ARRESTED</th>\n",
       "      <th>NATION-\\nALITY</th>\n",
       "      <th>AGE</th>\n",
       "      <th>SEX</th>\n",
       "    </tr>\n",
       "  </thead>\n",
       "  <tbody>\n",
       "    <tr>\n",
       "      <th>0</th>\n",
       "      <td>1</td>\n",
       "      <td>01.02.2019</td>\n",
       "      <td>RPF/NCB\\nGuwahati</td>\n",
       "      <td>24.500 kg\\nGanja</td>\n",
       "      <td>-</td>\n",
       "      <td>-</td>\n",
       "      <td>1.Sanjoy Das\\n2.Juyel Das</td>\n",
       "      <td>Indian\\nIndian</td>\n",
       "      <td>32\\n42</td>\n",
       "      <td>M\\nM</td>\n",
       "    </tr>\n",
       "    <tr>\n",
       "      <th>1</th>\n",
       "      <td>2</td>\n",
       "      <td>02.02.2019</td>\n",
       "      <td>NCB Imphal along with NAB,State Police &amp; Distr...</td>\n",
       "      <td>Destroyed illicit cultivation of Opuim spread ...</td>\n",
       "      <td>-</td>\n",
       "      <td>-</td>\n",
       "      <td>-</td>\n",
       "      <td>-</td>\n",
       "      <td>-</td>\n",
       "      <td>-</td>\n",
       "    </tr>\n",
       "    <tr>\n",
       "      <th>2</th>\n",
       "      <td>3</td>\n",
       "      <td>02.02.2019</td>\n",
       "      <td>BAF/NCB\\nAmritsar</td>\n",
       "      <td>3.990 kg\\nHeroin &amp; 80\\ngram Opium</td>\n",
       "      <td>SWA</td>\n",
       "      <td>-</td>\n",
       "      <td>-</td>\n",
       "      <td>-</td>\n",
       "      <td>-</td>\n",
       "      <td>-</td>\n",
       "    </tr>\n",
       "    <tr>\n",
       "      <th>3</th>\n",
       "      <td>4</td>\n",
       "      <td>02.02.2019</td>\n",
       "      <td>Customs,\\nSIIB, New\\nDelhi</td>\n",
       "      <td>581.455 kg of\\nDry Chatt/Khat</td>\n",
       "      <td>Ethiopia</td>\n",
       "      <td>-</td>\n",
       "      <td>1.Ahmed Hassan</td>\n",
       "      <td>Somalian</td>\n",
       "      <td>30</td>\n",
       "      <td>M</td>\n",
       "    </tr>\n",
       "    <tr>\n",
       "      <th>4</th>\n",
       "      <td>5</td>\n",
       "      <td>04.02.2019</td>\n",
       "      <td>NCB Imphal along with NAB, Manipur Rifles,Stat...</td>\n",
       "      <td>Destroyed illicit cultivation of Opuim spread ...</td>\n",
       "      <td>-</td>\n",
       "      <td>-</td>\n",
       "      <td>-</td>\n",
       "      <td>-</td>\n",
       "      <td>-</td>\n",
       "      <td>-</td>\n",
       "    </tr>\n",
       "  </tbody>\n",
       "</table>\n",
       "</div>"
      ],
      "text/plain": [
       "  SL\\nNo. DATE OF\\nSEIZURE                                    SEIZING\\nAGENCY  \\\n",
       "0       1       01.02.2019                                  RPF/NCB\\nGuwahati   \n",
       "1       2       02.02.2019  NCB Imphal along with NAB,State Police & Distr...   \n",
       "2       3       02.02.2019                                  BAF/NCB\\nAmritsar   \n",
       "3       4       02.02.2019                         Customs,\\nSIIB, New\\nDelhi   \n",
       "4       5       04.02.2019  NCB Imphal along with NAB, Manipur Rifles,Stat...   \n",
       "\n",
       "                QUANTITY AND\\nDRUG SEIZED\\n(IN KGS.) PLACE\\nOF\\nORIGIN  \\\n",
       "0                                   24.500 kg\\nGanja                 -   \n",
       "1  Destroyed illicit cultivation of Opuim spread ...                 -   \n",
       "2                  3.990 kg\\nHeroin & 80\\ngram Opium               SWA   \n",
       "3                      581.455 kg of\\nDry Chatt/Khat          Ethiopia   \n",
       "4  Destroyed illicit cultivation of Opuim spread ...                 -   \n",
       "\n",
       "  INTENDED\\nDESTINAT\\nION  NAME OF\\nPERSONS ARRESTED  NATION-\\nALITY     AGE  \\\n",
       "0                       -  1.Sanjoy Das\\n2.Juyel Das  Indian\\nIndian  32\\n42   \n",
       "1                       -                          -               -       -   \n",
       "2                       -                          -               -       -   \n",
       "3                       -             1.Ahmed Hassan        Somalian      30   \n",
       "4                       -                          -               -       -   \n",
       "\n",
       "    SEX  \n",
       "0  M\\nM  \n",
       "1     -  \n",
       "2     -  \n",
       "3     M  \n",
       "4     -  "
      ]
     },
     "execution_count": 174,
     "metadata": {},
     "output_type": "execute_result"
    }
   ],
   "source": [
    "df1.head()"
   ]
  },
  {
   "cell_type": "code",
   "execution_count": 175,
   "metadata": {},
   "outputs": [
    {
     "data": {
      "text/plain": [
       "(210, 10)"
      ]
     },
     "execution_count": 175,
     "metadata": {},
     "output_type": "execute_result"
    }
   ],
   "source": [
    "df1.shape"
   ]
  },
  {
   "cell_type": "code",
   "execution_count": 176,
   "metadata": {},
   "outputs": [
    {
     "data": {
      "text/plain": [
       "Index(['SL\\nNo.', 'DATE OF\\nSEIZURE', 'SEIZING\\nAGENCY',\n",
       "       'QUANTITY AND\\nDRUG SEIZED\\n(IN KGS.)', 'PLACE\\nOF\\nORIGIN',\n",
       "       'INTENDED\\nDESTINAT\\nION', 'NAME OF\\nPERSONS ARRESTED',\n",
       "       'NATION-\\nALITY', 'AGE', 'SEX'],\n",
       "      dtype='object')"
      ]
     },
     "execution_count": 176,
     "metadata": {},
     "output_type": "execute_result"
    }
   ],
   "source": [
    "df1.columns"
   ]
  },
  {
   "cell_type": "code",
   "execution_count": 177,
   "metadata": {},
   "outputs": [],
   "source": [
    "df1.columns=['Sl_No.', 'DATE_OF_SEIZURE', 'SEIZING_AGENCY',\n",
    "       'QUANTITY_AND_DRUG SEIZED', 'PLACE_OF_ORIGIN',\n",
    "       'INTENDED_DESTINATION', 'NAME_OF_PERSONS_ARRESTED',\n",
    "       'NATIONALITY', 'AGE', 'SEX']"
   ]
  },
  {
   "cell_type": "code",
   "execution_count": 178,
   "metadata": {},
   "outputs": [
    {
     "data": {
      "text/plain": [
       "Sl_No.                      164\n",
       "DATE_OF_SEIZURE             165\n",
       "SEIZING_AGENCY              162\n",
       "QUANTITY_AND_DRUG SEIZED    161\n",
       "PLACE_OF_ORIGIN             167\n",
       "INTENDED_DESTINATION        167\n",
       "NAME_OF_PERSONS_ARRESTED    140\n",
       "NATIONALITY                 140\n",
       "AGE                         140\n",
       "SEX                         140\n",
       "dtype: int64"
      ]
     },
     "execution_count": 178,
     "metadata": {},
     "output_type": "execute_result"
    }
   ],
   "source": [
    "df1.isna().sum()"
   ]
  },
  {
   "cell_type": "code",
   "execution_count": 179,
   "metadata": {},
   "outputs": [
    {
     "data": {
      "text/plain": [
       "array(['M\\nM', '-', 'M', 'F', 'M\\nM\\nM\\nM', nan], dtype=object)"
      ]
     },
     "execution_count": 179,
     "metadata": {},
     "output_type": "execute_result"
    }
   ],
   "source": [
    "df1['SEX'].unique()"
   ]
  },
  {
   "cell_type": "code",
   "execution_count": 180,
   "metadata": {},
   "outputs": [],
   "source": [
    "df1['SEX'].replace({'M\\nM':'M' , 'M\\nM\\nM\\nM':'M','-':'N',np.NaN:'N'},inplace=True)"
   ]
  },
  {
   "cell_type": "code",
   "execution_count": 181,
   "metadata": {},
   "outputs": [
    {
     "data": {
      "text/plain": [
       "array(['M', 'N', 'F'], dtype=object)"
      ]
     },
     "execution_count": 181,
     "metadata": {},
     "output_type": "execute_result"
    }
   ],
   "source": [
    "df1['SEX'].unique()"
   ]
  },
  {
   "cell_type": "code",
   "execution_count": 182,
   "metadata": {},
   "outputs": [
    {
     "data": {
      "text/html": [
       "<div>\n",
       "<style scoped>\n",
       "    .dataframe tbody tr th:only-of-type {\n",
       "        vertical-align: middle;\n",
       "    }\n",
       "\n",
       "    .dataframe tbody tr th {\n",
       "        vertical-align: top;\n",
       "    }\n",
       "\n",
       "    .dataframe thead th {\n",
       "        text-align: right;\n",
       "    }\n",
       "</style>\n",
       "<table border=\"1\" class=\"dataframe\">\n",
       "  <thead>\n",
       "    <tr style=\"text-align: right;\">\n",
       "      <th></th>\n",
       "      <th>Sl_No.</th>\n",
       "      <th>DATE_OF_SEIZURE</th>\n",
       "      <th>SEIZING_AGENCY</th>\n",
       "      <th>QUANTITY_AND_DRUG SEIZED</th>\n",
       "      <th>PLACE_OF_ORIGIN</th>\n",
       "      <th>INTENDED_DESTINATION</th>\n",
       "      <th>NAME_OF_PERSONS_ARRESTED</th>\n",
       "      <th>NATIONALITY</th>\n",
       "      <th>AGE</th>\n",
       "      <th>gender</th>\n",
       "    </tr>\n",
       "  </thead>\n",
       "  <tbody>\n",
       "    <tr>\n",
       "      <th>0</th>\n",
       "      <td>1</td>\n",
       "      <td>01.02.2019</td>\n",
       "      <td>RPF/NCB\\nGuwahati</td>\n",
       "      <td>24.500 kg\\nGanja</td>\n",
       "      <td>-</td>\n",
       "      <td>-</td>\n",
       "      <td>1.Sanjoy Das\\n2.Juyel Das</td>\n",
       "      <td>Indian\\nIndian</td>\n",
       "      <td>32\\n42</td>\n",
       "      <td>M</td>\n",
       "    </tr>\n",
       "    <tr>\n",
       "      <th>1</th>\n",
       "      <td>2</td>\n",
       "      <td>02.02.2019</td>\n",
       "      <td>NCB Imphal along with NAB,State Police &amp; Distr...</td>\n",
       "      <td>Destroyed illicit cultivation of Opuim spread ...</td>\n",
       "      <td>-</td>\n",
       "      <td>-</td>\n",
       "      <td>-</td>\n",
       "      <td>-</td>\n",
       "      <td>-</td>\n",
       "      <td>N</td>\n",
       "    </tr>\n",
       "    <tr>\n",
       "      <th>2</th>\n",
       "      <td>3</td>\n",
       "      <td>02.02.2019</td>\n",
       "      <td>BAF/NCB\\nAmritsar</td>\n",
       "      <td>3.990 kg\\nHeroin &amp; 80\\ngram Opium</td>\n",
       "      <td>SWA</td>\n",
       "      <td>-</td>\n",
       "      <td>-</td>\n",
       "      <td>-</td>\n",
       "      <td>-</td>\n",
       "      <td>N</td>\n",
       "    </tr>\n",
       "    <tr>\n",
       "      <th>3</th>\n",
       "      <td>4</td>\n",
       "      <td>02.02.2019</td>\n",
       "      <td>Customs,\\nSIIB, New\\nDelhi</td>\n",
       "      <td>581.455 kg of\\nDry Chatt/Khat</td>\n",
       "      <td>Ethiopia</td>\n",
       "      <td>-</td>\n",
       "      <td>1.Ahmed Hassan</td>\n",
       "      <td>Somalian</td>\n",
       "      <td>30</td>\n",
       "      <td>M</td>\n",
       "    </tr>\n",
       "    <tr>\n",
       "      <th>4</th>\n",
       "      <td>5</td>\n",
       "      <td>04.02.2019</td>\n",
       "      <td>NCB Imphal along with NAB, Manipur Rifles,Stat...</td>\n",
       "      <td>Destroyed illicit cultivation of Opuim spread ...</td>\n",
       "      <td>-</td>\n",
       "      <td>-</td>\n",
       "      <td>-</td>\n",
       "      <td>-</td>\n",
       "      <td>-</td>\n",
       "      <td>N</td>\n",
       "    </tr>\n",
       "    <tr>\n",
       "      <th>...</th>\n",
       "      <td>...</td>\n",
       "      <td>...</td>\n",
       "      <td>...</td>\n",
       "      <td>...</td>\n",
       "      <td>...</td>\n",
       "      <td>...</td>\n",
       "      <td>...</td>\n",
       "      <td>...</td>\n",
       "      <td>...</td>\n",
       "      <td>...</td>\n",
       "    </tr>\n",
       "    <tr>\n",
       "      <th>205</th>\n",
       "      <td>NaN</td>\n",
       "      <td>NaN</td>\n",
       "      <td>NaN</td>\n",
       "      <td>NaN</td>\n",
       "      <td>NaN</td>\n",
       "      <td>NaN</td>\n",
       "      <td>NaN</td>\n",
       "      <td>NaN</td>\n",
       "      <td>NaN</td>\n",
       "      <td>N</td>\n",
       "    </tr>\n",
       "    <tr>\n",
       "      <th>206</th>\n",
       "      <td>NaN</td>\n",
       "      <td>NaN</td>\n",
       "      <td>NaN</td>\n",
       "      <td>NaN</td>\n",
       "      <td>NaN</td>\n",
       "      <td>NaN</td>\n",
       "      <td>NaN</td>\n",
       "      <td>NaN</td>\n",
       "      <td>NaN</td>\n",
       "      <td>N</td>\n",
       "    </tr>\n",
       "    <tr>\n",
       "      <th>207</th>\n",
       "      <td>NaN</td>\n",
       "      <td>NaN</td>\n",
       "      <td>NaN</td>\n",
       "      <td>NaN</td>\n",
       "      <td>NaN</td>\n",
       "      <td>NaN</td>\n",
       "      <td>NaN</td>\n",
       "      <td>NaN</td>\n",
       "      <td>NaN</td>\n",
       "      <td>N</td>\n",
       "    </tr>\n",
       "    <tr>\n",
       "      <th>208</th>\n",
       "      <td>NaN</td>\n",
       "      <td>NaN</td>\n",
       "      <td>NaN</td>\n",
       "      <td>NaN</td>\n",
       "      <td>NaN</td>\n",
       "      <td>NaN</td>\n",
       "      <td>NaN</td>\n",
       "      <td>NaN</td>\n",
       "      <td>NaN</td>\n",
       "      <td>N</td>\n",
       "    </tr>\n",
       "    <tr>\n",
       "      <th>209</th>\n",
       "      <td>*********</td>\n",
       "      <td>NaN</td>\n",
       "      <td>NaN</td>\n",
       "      <td>NaN</td>\n",
       "      <td>NaN</td>\n",
       "      <td>NaN</td>\n",
       "      <td>NaN</td>\n",
       "      <td>NaN</td>\n",
       "      <td>NaN</td>\n",
       "      <td>N</td>\n",
       "    </tr>\n",
       "  </tbody>\n",
       "</table>\n",
       "<p>210 rows × 10 columns</p>\n",
       "</div>"
      ],
      "text/plain": [
       "        Sl_No. DATE_OF_SEIZURE  \\\n",
       "0            1      01.02.2019   \n",
       "1            2      02.02.2019   \n",
       "2            3      02.02.2019   \n",
       "3            4      02.02.2019   \n",
       "4            5      04.02.2019   \n",
       "..         ...             ...   \n",
       "205        NaN             NaN   \n",
       "206        NaN             NaN   \n",
       "207        NaN             NaN   \n",
       "208        NaN             NaN   \n",
       "209  *********             NaN   \n",
       "\n",
       "                                        SEIZING_AGENCY  \\\n",
       "0                                    RPF/NCB\\nGuwahati   \n",
       "1    NCB Imphal along with NAB,State Police & Distr...   \n",
       "2                                    BAF/NCB\\nAmritsar   \n",
       "3                           Customs,\\nSIIB, New\\nDelhi   \n",
       "4    NCB Imphal along with NAB, Manipur Rifles,Stat...   \n",
       "..                                                 ...   \n",
       "205                                                NaN   \n",
       "206                                                NaN   \n",
       "207                                                NaN   \n",
       "208                                                NaN   \n",
       "209                                                NaN   \n",
       "\n",
       "                              QUANTITY_AND_DRUG SEIZED PLACE_OF_ORIGIN  \\\n",
       "0                                     24.500 kg\\nGanja               -   \n",
       "1    Destroyed illicit cultivation of Opuim spread ...               -   \n",
       "2                    3.990 kg\\nHeroin & 80\\ngram Opium             SWA   \n",
       "3                        581.455 kg of\\nDry Chatt/Khat        Ethiopia   \n",
       "4    Destroyed illicit cultivation of Opuim spread ...               -   \n",
       "..                                                 ...             ...   \n",
       "205                                                NaN             NaN   \n",
       "206                                                NaN             NaN   \n",
       "207                                                NaN             NaN   \n",
       "208                                                NaN             NaN   \n",
       "209                                                NaN             NaN   \n",
       "\n",
       "    INTENDED_DESTINATION   NAME_OF_PERSONS_ARRESTED     NATIONALITY     AGE  \\\n",
       "0                      -  1.Sanjoy Das\\n2.Juyel Das  Indian\\nIndian  32\\n42   \n",
       "1                      -                          -               -       -   \n",
       "2                      -                          -               -       -   \n",
       "3                      -             1.Ahmed Hassan        Somalian      30   \n",
       "4                      -                          -               -       -   \n",
       "..                   ...                        ...             ...     ...   \n",
       "205                  NaN                        NaN             NaN     NaN   \n",
       "206                  NaN                        NaN             NaN     NaN   \n",
       "207                  NaN                        NaN             NaN     NaN   \n",
       "208                  NaN                        NaN             NaN     NaN   \n",
       "209                  NaN                        NaN             NaN     NaN   \n",
       "\n",
       "    gender  \n",
       "0        M  \n",
       "1        N  \n",
       "2        N  \n",
       "3        M  \n",
       "4        N  \n",
       "..     ...  \n",
       "205      N  \n",
       "206      N  \n",
       "207      N  \n",
       "208      N  \n",
       "209      N  \n",
       "\n",
       "[210 rows x 10 columns]"
      ]
     },
     "execution_count": 182,
     "metadata": {},
     "output_type": "execute_result"
    }
   ],
   "source": [
    "df1.rename(columns={'SEX':'gender'})"
   ]
  },
  {
   "cell_type": "code",
   "execution_count": 183,
   "metadata": {},
   "outputs": [],
   "source": [
    "df1.drop(['Sl_No.'],axis=1,inplace=True)"
   ]
  },
  {
   "cell_type": "code",
   "execution_count": 184,
   "metadata": {},
   "outputs": [
    {
     "data": {
      "text/plain": [
       "str"
      ]
     },
     "execution_count": 184,
     "metadata": {},
     "output_type": "execute_result"
    }
   ],
   "source": [
    "type(df1['DATE_OF_SEIZURE'][0])"
   ]
  },
  {
   "cell_type": "code",
   "execution_count": 185,
   "metadata": {},
   "outputs": [],
   "source": [
    "df1['DATE_OF_SEIZURE']=pd.to_datetime(df1['DATE_OF_SEIZURE'],errors='coerce').dt.date"
   ]
  },
  {
   "cell_type": "code",
   "execution_count": 186,
   "metadata": {},
   "outputs": [
    {
     "data": {
      "text/plain": [
       "0      2019-01-02\n",
       "1      2019-02-02\n",
       "2      2019-02-02\n",
       "3      2019-02-02\n",
       "4      2019-04-02\n",
       "          ...    \n",
       "205           NaT\n",
       "206           NaT\n",
       "207           NaT\n",
       "208           NaT\n",
       "209           NaT\n",
       "Name: DATE_OF_SEIZURE, Length: 210, dtype: object"
      ]
     },
     "execution_count": 186,
     "metadata": {},
     "output_type": "execute_result"
    }
   ],
   "source": [
    "df1['DATE_OF_SEIZURE']"
   ]
  },
  {
   "cell_type": "code",
   "execution_count": 187,
   "metadata": {},
   "outputs": [
    {
     "data": {
      "text/plain": [
       "165"
      ]
     },
     "execution_count": 187,
     "metadata": {},
     "output_type": "execute_result"
    }
   ],
   "source": [
    "df1['DATE_OF_SEIZURE'].isna().sum()"
   ]
  },
  {
   "cell_type": "code",
   "execution_count": 188,
   "metadata": {},
   "outputs": [],
   "source": [
    "df1.dropna(subset=['DATE_OF_SEIZURE'],axis=0,inplace=True)"
   ]
  },
  {
   "cell_type": "code",
   "execution_count": 189,
   "metadata": {},
   "outputs": [
    {
     "data": {
      "text/plain": [
       "array(['32\\n42', '-', '30', '-\\n-', '20\\n25', '50', '-\\n-\\n-\\n-',\n",
       "       '30\\n19', '24\\n31', '21\\n26', '46', '37', '36\\n34', '38', '35',\n",
       "       '27', '44\\n35'], dtype=object)"
      ]
     },
     "execution_count": 189,
     "metadata": {},
     "output_type": "execute_result"
    }
   ],
   "source": [
    "df1['AGE'].unique()"
   ]
  },
  {
   "cell_type": "code",
   "execution_count": 190,
   "metadata": {},
   "outputs": [],
   "source": [
    "df1['AGE'].replace({'32\\n42':'37','20\\n25':'22','30\\n19':'25','24\\n31':'28','21\\n26':'24',\n",
    "                   '36\\n34':'35','44\\n35':'40'},inplace=True)"
   ]
  },
  {
   "cell_type": "code",
   "execution_count": 191,
   "metadata": {},
   "outputs": [
    {
     "data": {
      "text/plain": [
       "array(['37', '-', '30', '-\\n-', '22', '50', '-\\n-\\n-\\n-', '25', '28',\n",
       "       '24', '46', '35', '38', '27', '40'], dtype=object)"
      ]
     },
     "execution_count": 191,
     "metadata": {},
     "output_type": "execute_result"
    }
   ],
   "source": [
    "df1['AGE'].unique()"
   ]
  },
  {
   "cell_type": "code",
   "execution_count": 192,
   "metadata": {},
   "outputs": [],
   "source": [
    "df1['AGE']=pd.to_numeric(df1['AGE'],errors='coerce')"
   ]
  },
  {
   "cell_type": "code",
   "execution_count": 193,
   "metadata": {},
   "outputs": [],
   "source": [
    "df1['AGE'].fillna(df1['AGE'].mean(),inplace=True)"
   ]
  },
  {
   "cell_type": "code",
   "execution_count": 194,
   "metadata": {},
   "outputs": [
    {
     "data": {
      "text/plain": [
       "DATE_OF_SEIZURE             0\n",
       "SEIZING_AGENCY              0\n",
       "QUANTITY_AND_DRUG SEIZED    0\n",
       "PLACE_OF_ORIGIN             2\n",
       "INTENDED_DESTINATION        2\n",
       "NAME_OF_PERSONS_ARRESTED    0\n",
       "NATIONALITY                 0\n",
       "AGE                         0\n",
       "SEX                         0\n",
       "dtype: int64"
      ]
     },
     "execution_count": 194,
     "metadata": {},
     "output_type": "execute_result"
    }
   ],
   "source": [
    "df1.isna().sum()"
   ]
  },
  {
   "cell_type": "code",
   "execution_count": 195,
   "metadata": {},
   "outputs": [
    {
     "data": {
      "text/plain": [
       "(45, 9)"
      ]
     },
     "execution_count": 195,
     "metadata": {},
     "output_type": "execute_result"
    }
   ],
   "source": [
    "df1.shape"
   ]
  },
  {
   "cell_type": "code",
   "execution_count": 196,
   "metadata": {},
   "outputs": [
    {
     "data": {
      "text/html": [
       "<div>\n",
       "<style scoped>\n",
       "    .dataframe tbody tr th:only-of-type {\n",
       "        vertical-align: middle;\n",
       "    }\n",
       "\n",
       "    .dataframe tbody tr th {\n",
       "        vertical-align: top;\n",
       "    }\n",
       "\n",
       "    .dataframe thead th {\n",
       "        text-align: right;\n",
       "    }\n",
       "</style>\n",
       "<table border=\"1\" class=\"dataframe\">\n",
       "  <thead>\n",
       "    <tr style=\"text-align: right;\">\n",
       "      <th></th>\n",
       "      <th>DATE_OF_SEIZURE</th>\n",
       "      <th>SEIZING_AGENCY</th>\n",
       "      <th>QUANTITY_AND_DRUG SEIZED</th>\n",
       "      <th>PLACE_OF_ORIGIN</th>\n",
       "      <th>INTENDED_DESTINATION</th>\n",
       "      <th>NAME_OF_PERSONS_ARRESTED</th>\n",
       "      <th>NATIONALITY</th>\n",
       "      <th>AGE</th>\n",
       "      <th>SEX</th>\n",
       "    </tr>\n",
       "  </thead>\n",
       "  <tbody>\n",
       "    <tr>\n",
       "      <th>0</th>\n",
       "      <td>2019-01-02</td>\n",
       "      <td>RPF/NCB\\nGuwahati</td>\n",
       "      <td>24.500 kg\\nGanja</td>\n",
       "      <td>-</td>\n",
       "      <td>-</td>\n",
       "      <td>1.Sanjoy Das\\n2.Juyel Das</td>\n",
       "      <td>Indian\\nIndian</td>\n",
       "      <td>37.0</td>\n",
       "      <td>M</td>\n",
       "    </tr>\n",
       "    <tr>\n",
       "      <th>1</th>\n",
       "      <td>2019-02-02</td>\n",
       "      <td>NCB Imphal along with NAB,State Police &amp; Distr...</td>\n",
       "      <td>Destroyed illicit cultivation of Opuim spread ...</td>\n",
       "      <td>-</td>\n",
       "      <td>-</td>\n",
       "      <td>-</td>\n",
       "      <td>-</td>\n",
       "      <td>33.0</td>\n",
       "      <td>N</td>\n",
       "    </tr>\n",
       "    <tr>\n",
       "      <th>2</th>\n",
       "      <td>2019-02-02</td>\n",
       "      <td>BAF/NCB\\nAmritsar</td>\n",
       "      <td>3.990 kg\\nHeroin &amp; 80\\ngram Opium</td>\n",
       "      <td>SWA</td>\n",
       "      <td>-</td>\n",
       "      <td>-</td>\n",
       "      <td>-</td>\n",
       "      <td>33.0</td>\n",
       "      <td>N</td>\n",
       "    </tr>\n",
       "    <tr>\n",
       "      <th>3</th>\n",
       "      <td>2019-02-02</td>\n",
       "      <td>Customs,\\nSIIB, New\\nDelhi</td>\n",
       "      <td>581.455 kg of\\nDry Chatt/Khat</td>\n",
       "      <td>Ethiopia</td>\n",
       "      <td>-</td>\n",
       "      <td>1.Ahmed Hassan</td>\n",
       "      <td>Somalian</td>\n",
       "      <td>30.0</td>\n",
       "      <td>M</td>\n",
       "    </tr>\n",
       "    <tr>\n",
       "      <th>4</th>\n",
       "      <td>2019-04-02</td>\n",
       "      <td>NCB Imphal along with NAB, Manipur Rifles,Stat...</td>\n",
       "      <td>Destroyed illicit cultivation of Opuim spread ...</td>\n",
       "      <td>-</td>\n",
       "      <td>-</td>\n",
       "      <td>-</td>\n",
       "      <td>-</td>\n",
       "      <td>33.0</td>\n",
       "      <td>N</td>\n",
       "    </tr>\n",
       "  </tbody>\n",
       "</table>\n",
       "</div>"
      ],
      "text/plain": [
       "  DATE_OF_SEIZURE                                     SEIZING_AGENCY  \\\n",
       "0      2019-01-02                                  RPF/NCB\\nGuwahati   \n",
       "1      2019-02-02  NCB Imphal along with NAB,State Police & Distr...   \n",
       "2      2019-02-02                                  BAF/NCB\\nAmritsar   \n",
       "3      2019-02-02                         Customs,\\nSIIB, New\\nDelhi   \n",
       "4      2019-04-02  NCB Imphal along with NAB, Manipur Rifles,Stat...   \n",
       "\n",
       "                            QUANTITY_AND_DRUG SEIZED PLACE_OF_ORIGIN  \\\n",
       "0                                   24.500 kg\\nGanja               -   \n",
       "1  Destroyed illicit cultivation of Opuim spread ...               -   \n",
       "2                  3.990 kg\\nHeroin & 80\\ngram Opium             SWA   \n",
       "3                      581.455 kg of\\nDry Chatt/Khat        Ethiopia   \n",
       "4  Destroyed illicit cultivation of Opuim spread ...               -   \n",
       "\n",
       "  INTENDED_DESTINATION   NAME_OF_PERSONS_ARRESTED     NATIONALITY   AGE SEX  \n",
       "0                    -  1.Sanjoy Das\\n2.Juyel Das  Indian\\nIndian  37.0   M  \n",
       "1                    -                          -               -  33.0   N  \n",
       "2                    -                          -               -  33.0   N  \n",
       "3                    -             1.Ahmed Hassan        Somalian  30.0   M  \n",
       "4                    -                          -               -  33.0   N  "
      ]
     },
     "execution_count": 196,
     "metadata": {},
     "output_type": "execute_result"
    }
   ],
   "source": [
    "df1.head()"
   ]
  },
  {
   "cell_type": "code",
   "execution_count": 203,
   "metadata": {},
   "outputs": [],
   "source": [
    "df1['NATIONALITY'].replace({'Indian\\nIndian':'Indian','Indian\\nIndian\\nIndian\\nIndian':'Indian','-':'Indian'},inplace=True)"
   ]
  },
  {
   "cell_type": "code",
   "execution_count": 206,
   "metadata": {},
   "outputs": [],
   "source": [
    "import matplotlib.pyplot as plt"
   ]
  },
  {
   "cell_type": "code",
   "execution_count": null,
   "metadata": {},
   "outputs": [],
   "source": []
  },
  {
   "cell_type": "code",
   "execution_count": null,
   "metadata": {},
   "outputs": [],
   "source": []
  },
  {
   "cell_type": "code",
   "execution_count": 229,
   "metadata": {},
   "outputs": [
    {
     "data": {
      "text/plain": [
       "Text(0.5, 1.0, 'Country Distribution')"
      ]
     },
     "execution_count": 229,
     "metadata": {},
     "output_type": "execute_result"
    },
    {
     "data": {
      "image/png": "[encoded data removed]",
      "text/plain": [
       "<Figure size 432x288 with 1 Axes>"
      ]
     },
     "metadata": {
      "needs_background": "light"
     },
     "output_type": "display_data"
    }
   ],
   "source": [
    "df1['NATIONALITY'].value_counts().plot(kind='bar')\n",
    "plt.xlabel('Country')\n",
    "plt.ylabel('Count')\n",
    "plt.title(\"Country Distribution\")"
   ]
  },
  {
   "cell_type": "code",
   "execution_count": 232,
   "metadata": {},
   "outputs": [
    {
     "data": {
      "text/plain": [
       "<AxesSubplot:xlabel='NATIONALITY,SEX'>"
      ]
     },
     "execution_count": 232,
     "metadata": {},
     "output_type": "execute_result"
    },
    {
     "data": {
      "image/png": "[encoded data removed]",
      "text/plain": [
       "<Figure size 432x288 with 1 Axes>"
      ]
     },
     "metadata": {
      "needs_background": "light"
     },
     "output_type": "display_data"
    }
   ],
   "source": [
    "df1[['NATIONALITY','SEX']].value_counts().plot(kind='bar')"
   ]
  },
  {
   "cell_type": "code",
   "execution_count": 238,
   "metadata": {},
   "outputs": [
    {
     "data": {
      "text/plain": [
       "<AxesSubplot:ylabel='NATIONALITY'>"
      ]
     },
     "execution_count": 238,
     "metadata": {},
     "output_type": "execute_result"
    },
    {
     "data": {
      "image/png": "[encoded data removed]",
      "text/plain": [
       "<Figure size 576x576 with 1 Axes>"
      ]
     },
     "metadata": {},
     "output_type": "display_data"
    }
   ],
   "source": [
    "df1['NATIONALITY'].value_counts().plot(kind='pie',figsize=(8,8))"
   ]
  },
  {
   "cell_type": "code",
   "execution_count": 240,
   "metadata": {},
   "outputs": [],
   "source": [
    "clf=DecisionTreeClassifier(criterion='entropy',max_depth=4)"
   ]
  },
  {
   "cell_type": "code",
   "execution_count": 242,
   "metadata": {},
   "outputs": [],
   "source": [
    "X=df1.drop(['SEX'],axis=1)\n",
    "y=df1['SEX']"
   ]
  },
  {
   "cell_type": "code",
   "execution_count": 244,
   "metadata": {},
   "outputs": [],
   "source": [
    "X_train,X_test,y_train,y_test=train_test_split(X,y,test_size=0.2,random_state=0)"
   ]
  },
  {
   "cell_type": "code",
   "execution_count": 247,
   "metadata": {},
   "outputs": [
    {
     "name": "stdout",
     "output_type": "stream",
     "text": [
      "<class 'datetime.date'>\n",
      "<class 'str'>\n",
      "<class 'str'>\n",
      "<class 'str'>\n",
      "<class 'str'>\n",
      "<class 'str'>\n",
      "<class 'str'>\n",
      "<class 'numpy.float64'>\n",
      "<class 'str'>\n"
     ]
    }
   ],
   "source": []
  },
  {
   "cell_type": "code",
   "execution_count": null,
   "metadata": {},
   "outputs": [],
   "source": []
  }
 ],
 "metadata": {
  "kernelspec": {
   "display_name": "Python 3",
   "language": "python",
   "name": "python3"
  },
  "language_info": {
   "codemirror_mode": {
    "name": "ipython",
    "version": 3
   },
   "file_extension": ".py",
   "mimetype": "text/x-python",
   "name": "python",
   "nbconvert_exporter": "python",
   "pygments_lexer": "ipython3",
   "version": "3.6.5"
  }
 },
 "nbformat": 4,
 "nbformat_minor": 4
}
